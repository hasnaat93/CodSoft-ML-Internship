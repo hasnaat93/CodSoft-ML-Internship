{
 "cells": [
  {
   "cell_type": "code",
   "execution_count": 2,
   "id": "8bf76bdf",
   "metadata": {},
   "outputs": [
    {
     "name": "stdout",
     "output_type": "stream",
     "text": [
      "Predictions saved to predictions.txt\n"
     ]
    }
   ],
   "source": [
    "from sklearn.feature_extraction.text import TfidfVectorizer\n",
    "from sklearn.naive_bayes import MultinomialNB\n",
    "from sklearn.metrics import classification_report\n",
    "import pandas as pd\n",
    "\n",
    "# Load the training data\n",
    "train_data = pd.read_csv(\"train_data.txt\", sep=\" ::: \", engine=\"python\", header=None)\n",
    "train_data.columns = [\"ID\", \"Title\", \"Genre\", \"Description\"]\n",
    "\n",
    "# Load the test data\n",
    "test_data = pd.read_csv(\"test_data.txt\", sep=\" ::: \", engine=\"python\", header=None)\n",
    "test_data.columns = [\"ID\", \"Title\", \"Description\"]\n",
    "\n",
    "# Split data into features and labels\n",
    "X_train = train_data[\"Description\"]\n",
    "y_train = train_data[\"Genre\"]\n",
    "X_test = test_data[\"Description\"]\n",
    "\n",
    "# Vectorize the text data\n",
    "vectorizer = TfidfVectorizer(max_features=1000)\n",
    "X_train_vectorized = vectorizer.fit_transform(X_train)\n",
    "X_test_vectorized = vectorizer.transform(X_test)\n",
    "\n",
    "# Train a Naive Bayes classifier\n",
    "model = MultinomialNB()\n",
    "model.fit(X_train_vectorized, y_train)\n",
    "\n",
    "# Predict genres for the test data\n",
    "test_predictions = model.predict(X_test_vectorized)\n",
    "\n",
    "# Create output file\n",
    "with open('predictions.txt', 'w') as f:\n",
    "    for idx, (title, pred_genre) in enumerate(zip(test_data[\"Title\"], test_predictions), start=1):\n",
    "        f.write(f\"{idx} ::: {title} ::: {pred_genre}\\n\")\n",
    "\n",
    "print(\"Predictions saved to predictions.txt\")\n"
   ]
  },
  {
   "cell_type": "code",
   "execution_count": null,
   "id": "f4e00667",
   "metadata": {},
   "outputs": [],
   "source": []
  }
 ],
 "metadata": {
  "kernelspec": {
   "display_name": "Python 3 (ipykernel)",
   "language": "python",
   "name": "python3"
  },
  "language_info": {
   "codemirror_mode": {
    "name": "ipython",
    "version": 3
   },
   "file_extension": ".py",
   "mimetype": "text/x-python",
   "name": "python",
   "nbconvert_exporter": "python",
   "pygments_lexer": "ipython3",
   "version": "3.9.13"
  }
 },
 "nbformat": 4,
 "nbformat_minor": 5
}
